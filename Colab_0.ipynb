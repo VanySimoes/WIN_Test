{
  "nbformat": 4,
  "nbformat_minor": 0,
  "metadata": {
    "colab": {
      "name": "Colab_0",
      "provenance": [],
      "authorship_tag": "ABX9TyP7F6wx8+d6/PmN+vL+KTGf",
      "include_colab_link": true
    },
    "kernelspec": {
      "name": "python3",
      "display_name": "Python 3"
    },
    "language_info": {
      "name": "python"
    }
  },
  "cells": [
    {
      "cell_type": "markdown",
      "metadata": {
        "id": "view-in-github",
        "colab_type": "text"
      },
      "source": [
        "<a href=\"https://colab.research.google.com/github/VanySimoes/WIN_Test/blob/main/Colab_0.ipynb\" target=\"_parent\"><img src=\"https://colab.research.google.com/assets/colab-badge.svg\" alt=\"Open In Colab\"/></a>"
      ]
    },
    {
      "cell_type": "markdown",
      "metadata": {
        "id": "sfb6S5g1TnMd"
      },
      "source": [
        "Reference: Google Colab\n",
        "## <strong>O que é Google Colab</strong>\n",
        "\n",
        "<p><img alt=\"Colaboratory logo\" height=\"45px\" src=\"/img/colab_favicon.ico\" align=\"left\" hspace=\"10px\" vspace=\"0px\"></p>\n",
        "\n",
        "<h1>O que é o Colaboratory?</h1>\n",
        "\n",
        "O Colaboratory ou \"Colab\" permite escrever código Python no seu navegador, com: \n",
        "- Nenhuma configuração necessária\n",
        "- Acesso gratuito a GPUs\n",
        "- Compartilhamento fácil\n",
        "\n",
        "Você pode ser um <strong>estudante</strong>, um <strong>cientista de dados</strong> ou um <strong>pesquisador de IA</strong>, o Colab pode facilitar seu trabalho. \n"
      ]
    },
    {
      "cell_type": "markdown",
      "metadata": {
        "id": "51stOhEyUBpT"
      },
      "source": [
        "The first thing is to load all **libraries** that you will need during the program.\n",
        "To execute the code, click on the **arrow** in the left, it will become a number that indicates the order in which the code was executed.\n",
        "**Try it yourself**\n"
      ]
    },
    {
      "cell_type": "markdown",
      "metadata": {
        "id": "DzwfG7gTTz37"
      },
      "source": [
        ""
      ]
    },
    {
      "cell_type": "code",
      "metadata": {
        "id": "Decflkr7UKF0"
      },
      "source": [
        "import tensorflow as tf\n",
        "from sklearn.model_selection import train_test_split\n",
        "from sklearn import tree, ensemble\n",
        "from keras.datasets import mnist\n",
        "from tensorflow.keras.layers import Conv2D, MaxPooling2D, Flatten, Dropout, Dense\n",
        "import csv\n",
        "import pandas as pd"
      ],
      "execution_count": null,
      "outputs": []
    },
    {
      "cell_type": "markdown",
      "metadata": {
        "id": "SIoE2BQ7aCRj"
      },
      "source": [
        "\n",
        "Olhe o conjunto de comandos acima e responda ao questionário <a href=\"https://docs.google.com/forms/d/e/1FAIpQLSdSC8HHhlNUf0CRydc2gcCfUKxhuyKIZGZxRIdXPhAgzdPfIQ/viewform?usp=sf_link\">\n",
        "\n",
        "Lição 0</a> para te conhecermos melhor.\n",
        "\n",
        "\n",
        "\n"
      ]
    },
    {
      "cell_type": "markdown",
      "metadata": {
        "id": "M_IY61fTUm8U"
      },
      "source": [
        "## <strong>Compartilhamento no Drive</strong>\n",
        "\n",
        "Vamos salvar nosso trabalho no Drive e ver onde ele fica.\n",
        "Troque o nome do seu arquivo para Colab_edit_0, clique em arquivo e salve uma cópia no Drive\n",
        "\n"
      ]
    },
    {
      "cell_type": "markdown",
      "metadata": {
        "id": "vP3jbpfGcsnr"
      },
      "source": [
        ""
      ]
    },
    {
      "cell_type": "code",
      "metadata": {
        "id": "xENLXGhlcsUr"
      },
      "source": [
        "## <strong>Compartilhamento no Github</strong>\n",
        "\n",
        "Vamos salvar nosso trabalho no Github e ver onde ele fica.\n",
        "Troque o nome do seu arquivo para Colab_edit_0, clique em arquivo e salve uma cópia no Drive"
      ],
      "execution_count": null,
      "outputs": []
    }
  ]
}