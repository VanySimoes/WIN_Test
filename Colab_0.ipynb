{
  "nbformat": 4,
  "nbformat_minor": 0,
  "metadata": {
    "colab": {
      "name": "Colab_0",
      "provenance": [],
      "collapsed_sections": [],
      "authorship_tag": "ABX9TyMcO7aQc6G/Mq8Ml/9OYRZp",
      "include_colab_link": true
    },
    "kernelspec": {
      "name": "python3",
      "display_name": "Python 3"
    },
    "language_info": {
      "name": "python"
    }
  },
  "cells": [
    {
      "cell_type": "markdown",
      "metadata": {
        "id": "view-in-github",
        "colab_type": "text"
      },
      "source": [
        "<a href=\"https://colab.research.google.com/github/VanySimoes/WIN_Test/blob/main/Colab_0.ipynb\" target=\"_parent\"><img src=\"https://colab.research.google.com/assets/colab-badge.svg\" alt=\"Open In Colab\"/></a>"
      ]
    },
    {
      "cell_type": "markdown",
      "metadata": {
        "id": "sfb6S5g1TnMd"
      },
      "source": [
        "Reference: Google Colab\n",
        "## <strong>O que é Google Colab</strong>\n",
        "\n",
        "<p><img alt=\"Colaboratory logo\" height=\"45px\" src=\"/img/colab_favicon.ico\" align=\"left\" hspace=\"10px\" vspace=\"0px\"></p>\n",
        "\n",
        "<h1>O que é o Colaboratory?</h1>\n",
        "\n",
        "O Colaboratory ou \"Colab\" permite escrever código Python no seu navegador, com: \n",
        "- Nenhuma configuração necessária\n",
        "- Acesso gratuito a GPUs\n",
        "- Compartilhamento fácil\n",
        "\n",
        "Você pode ser um <strong>estudante</strong>, um <strong>cientista de dados</strong> ou um <strong>pesquisador de IA</strong>, o Colab pode facilitar seu trabalho. \n"
      ]
    },
    {
      "cell_type": "markdown",
      "metadata": {
        "id": "51stOhEyUBpT"
      },
      "source": [
        "\n",
        "## <strong>Carregando bibliotecas de Python</strong>\n",
        "\n",
        "A primeira coisa é carregar todas as **biliotecas** que você vai precisar durante o desenvolvimento do projeto. \n",
        "Para **executar** o código, clique na **seta** que fica ao lado esquerdo da célula, essa seta se transformará num número que indica a ordem em que ocorreu a execução da célula.\n",
        "**Execute a célula abaixo**\n"
      ]
    },
    {
      "cell_type": "code",
      "metadata": {
        "id": "Decflkr7UKF0"
      },
      "source": [
        "import tensorflow as tf\n",
        "import csv\n",
        "import pandas as pd\n",
        "import cv2\n",
        "import numpy as np\n",
        "import matplotlib.pyplot as plt\n",
        "import pandas as pd\n",
        "from google.colab.patches import cv2_imshow"
      ],
      "execution_count": 1,
      "outputs": []
    },
    {
      "cell_type": "markdown",
      "metadata": {
        "id": "SIoE2BQ7aCRj"
      },
      "source": [
        "\n",
        "Olhe o conjunto de comandos acima, fique familiarizado com o formato para carregar bibliotecas em **Python**, e responda ao questionário <a href=\"https://docs.google.com/forms/d/e/1FAIpQLSdSC8HHhlNUf0CRydc2gcCfUKxhuyKIZGZxRIdXPhAgzdPfIQ/viewform?usp=sf_link\">\n",
        "\n",
        "Lição 0</a> para te conhecermos melhor. Não se preocupe se você não conhecer algumas das bibliotecas, principalmente o cv2.\n",
        "\n",
        "\n",
        "\n"
      ]
    },
    {
      "cell_type": "markdown",
      "metadata": {
        "id": "M_IY61fTUm8U"
      },
      "source": [
        "## <strong>Salvando seu projeto -  Google Drive</strong>\n",
        "\n",
        "Um ponto importante é aprender a salvar seu trabalho numa pasta a ser acessada em qualquer computador, e compartilhar com colegas. \n",
        "Vamos aprender a salvar e encontrar o trabalho. Renomeie seu arquivo para Colab_edit_0 no topo da página, simplesmente coloque o cursor em cima do nome e edite. \n",
        "Para salvar o trabalho no **Google Drive**, vá até \n",
        "->Arquivo \n",
        "->Salvar uma cópia no Google Drive e clique\n",
        "\n",
        "Abre seu **Google Drive** e encontre a pasta **Colab Notebooks**\n",
        "\n",
        "Se o seu arquivo não estiver na pasta, fale no chat que a gente ajuda, isso é importante para as próximas atividades.\n",
        "\n"
      ]
    },
    {
      "cell_type": "markdown",
      "metadata": {
        "id": "CHIR1J-7eEpZ"
      },
      "source": [
        "## <strong>Compartilhamento - Github</strong>\n",
        "\n",
        "O Google Colab oferece a possibilidade de compartilhar o projeto num repositório público do Github.\n",
        "Se você já tem uma conta no Github, vá em \n",
        "Arquivo -> Salvar uma cópia no Github e\n",
        " Vamos salvar nosso trabalho no Drive e ver onde ele fica"
      ]
    }
  ]
}